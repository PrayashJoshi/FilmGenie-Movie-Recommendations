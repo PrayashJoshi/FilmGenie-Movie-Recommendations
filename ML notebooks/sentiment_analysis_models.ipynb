{
 "cells": [
  {
   "cell_type": "code",
   "execution_count": 36,
   "metadata": {},
   "outputs": [],
   "source": [
    "import pandas as pd\n",
    "import nltk\n",
    "from nltk.corpus import stopwords, sentiwordnet as swn\n",
    "from nltk.stem import WordNetLemmatizer\n",
    "from vaderSentiment.vaderSentiment import SentimentIntensityAnalyzer\n",
    "from nltk.stem import WordNetLemmatizer\n",
    "from sklearn.model_selection import train_test_split\n",
    "from sklearn.feature_extraction.text import CountVectorizer\n",
    "from sklearn.naive_bayes import MultinomialNB\n",
    "from sklearn import metrics"
   ]
  },
  {
   "cell_type": "code",
   "execution_count": 5,
   "metadata": {},
   "outputs": [
    {
     "data": {
      "text/html": [
       "<div>\n",
       "<style scoped>\n",
       "    .dataframe tbody tr th:only-of-type {\n",
       "        vertical-align: middle;\n",
       "    }\n",
       "\n",
       "    .dataframe tbody tr th {\n",
       "        vertical-align: top;\n",
       "    }\n",
       "\n",
       "    .dataframe thead th {\n",
       "        text-align: right;\n",
       "    }\n",
       "</style>\n",
       "<table border=\"1\" class=\"dataframe\">\n",
       "  <thead>\n",
       "    <tr style=\"text-align: right;\">\n",
       "      <th></th>\n",
       "      <th>Unnamed: 0</th>\n",
       "      <th>ratings</th>\n",
       "      <th>reviews</th>\n",
       "      <th>usefulness_rating</th>\n",
       "      <th>name</th>\n",
       "      <th>id</th>\n",
       "      <th>reviews_clean</th>\n",
       "    </tr>\n",
       "  </thead>\n",
       "  <tbody>\n",
       "    <tr>\n",
       "      <th>0</th>\n",
       "      <td>2258</td>\n",
       "      <td>7</td>\n",
       "      <td>If this movie has a downside, and many of the ...</td>\n",
       "      <td>0.909091</td>\n",
       "      <td>Ocean's Twelve</td>\n",
       "      <td>tt0349903</td>\n",
       "      <td>if this movie has a downside and many of the r...</td>\n",
       "    </tr>\n",
       "  </tbody>\n",
       "</table>\n",
       "</div>"
      ],
      "text/plain": [
       "   Unnamed: 0  ratings                                            reviews  \\\n",
       "0        2258        7  If this movie has a downside, and many of the ...   \n",
       "\n",
       "   usefulness_rating            name         id  \\\n",
       "0           0.909091  Ocean's Twelve  tt0349903   \n",
       "\n",
       "                                       reviews_clean  \n",
       "0  if this movie has a downside and many of the r...  "
      ]
     },
     "execution_count": 5,
     "metadata": {},
     "output_type": "execute_result"
    }
   ],
   "source": [
    "df = pd.read_csv('oceans_12Reviews.csv')"
   ]
  },
  {
   "cell_type": "code",
   "execution_count": 8,
   "metadata": {},
   "outputs": [],
   "source": [
    "def give_sentiment(rating):\n",
    "    if(rating > 5):\n",
    "        return 'Positive'\n",
    "    elif (rating == 5):\n",
    "        return 'Neutral'\n",
    "    else:\n",
    "        return 'Negative'"
   ]
  },
  {
   "cell_type": "code",
   "execution_count": 9,
   "metadata": {},
   "outputs": [],
   "source": [
    "df['overall_sentiment'] = df['ratings'].apply(lambda x: give_sentiment(x))"
   ]
  },
  {
   "attachments": {},
   "cell_type": "markdown",
   "metadata": {},
   "source": [
    "Pre Trained VADER sentiment classification"
   ]
  },
  {
   "cell_type": "code",
   "execution_count": 10,
   "metadata": {},
   "outputs": [],
   "source": [
    "def vader_sentiment(text):\n",
    "    analyser = SentimentIntensityAnalyzer()\n",
    "    sentiment_score = analyser.polarity_scores(text)\n",
    "    if(sentiment_score['compound'] > 0):\n",
    "        return 'Positive'\n",
    "    elif(sentiment_score['compound'] == 0):\n",
    "        return 'Neutral'\n",
    "    else:\n",
    "        return 'Negative'"
   ]
  },
  {
   "cell_type": "code",
   "execution_count": 18,
   "metadata": {},
   "outputs": [],
   "source": [
    "df['vader_sentiment'] = df['reviews_clean'].apply(lambda x: vader_sentiment(x))\n"
   ]
  },
  {
   "cell_type": "code",
   "execution_count": 19,
   "metadata": {},
   "outputs": [
    {
     "name": "stdout",
     "output_type": "stream",
     "text": [
      "Proportion of incorrectly classified reviews: 0.516\n"
     ]
    }
   ],
   "source": [
    "print('Proportion of incorrectly classified reviews: ' + str(df[df['overall_sentiment'] != df['vader_sentiment']].size/df.size))"
   ]
  },
  {
   "attachments": {},
   "cell_type": "markdown",
   "metadata": {},
   "source": [
    "Dropping stopwords"
   ]
  },
  {
   "cell_type": "code",
   "execution_count": 30,
   "metadata": {},
   "outputs": [],
   "source": [
    "stopwords = nltk.corpus.stopwords.words('english')\n",
    "def remove_stopwords(text):\n",
    "    return ' '.join([w for w in nltk.word_tokenize(text) if w not in stopwords])\n"
   ]
  },
  {
   "cell_type": "code",
   "execution_count": 31,
   "metadata": {},
   "outputs": [
    {
     "name": "stdout",
     "output_type": "stream",
     "text": [
      "Proportion of incorrectly classified reviews: 0.636\n"
     ]
    }
   ],
   "source": [
    "df['tokenized_no_stopwords_reviews'] = df['reviews_clean'].apply(lambda x: remove_stopwords(x))\n",
    "df['vader_stopwords_classification'] = df['tokenized_no_stopwords_reviews'].apply(\n",
    "    lambda x: vader_sentiment(x))\n",
    "print('Proportion of incorrectly classified reviews: ' +\n",
    "      str(df[df['overall_sentiment'] != df['vader_stopwords_classification']].size/df.size))\n"
   ]
  },
  {
   "cell_type": "code",
   "execution_count": 32,
   "metadata": {},
   "outputs": [],
   "source": [
    "cv = CountVectorizer()\n",
    "text_vectorized = cv.fit_transform(df['tokenized_no_stopwords_reviews'])\n",
    "xtrain, xtest, ytrain, ytest = train_test_split(text_vectorized, df['overall_sentiment'], test_size = 0.2, random_state=42)\n"
   ]
  },
  {
   "cell_type": "code",
   "execution_count": 35,
   "metadata": {},
   "outputs": [
    {
     "ename": "NameError",
     "evalue": "name 'metrics' is not defined",
     "output_type": "error",
     "traceback": [
      "\u001b[1;31m---------------------------------------------------------------------------\u001b[0m",
      "\u001b[1;31mNameError\u001b[0m                                 Traceback (most recent call last)",
      "\u001b[1;32mc:\\Users\\doanl\\code\\cs4664\\ml_movie_recommendation\\sentiment_analysis_models.ipynb Cell 13\u001b[0m in \u001b[0;36m<cell line: 4>\u001b[1;34m()\u001b[0m\n\u001b[0;32m      <a href='vscode-notebook-cell:/c%3A/Users/doanl/code/cs4664/ml_movie_recommendation/sentiment_analysis_models.ipynb#X16sZmlsZQ%3D%3D?line=1'>2</a>\u001b[0m mnb\u001b[39m.\u001b[39mfit(xtrain, ytrain)\n\u001b[0;32m      <a href='vscode-notebook-cell:/c%3A/Users/doanl/code/cs4664/ml_movie_recommendation/sentiment_analysis_models.ipynb#X16sZmlsZQ%3D%3D?line=2'>3</a>\u001b[0m pred \u001b[39m=\u001b[39m mnb\u001b[39m.\u001b[39mpredict(xtest)\n\u001b[1;32m----> <a href='vscode-notebook-cell:/c%3A/Users/doanl/code/cs4664/ml_movie_recommendation/sentiment_analysis_models.ipynb#X16sZmlsZQ%3D%3D?line=3'>4</a>\u001b[0m accuracy_score \u001b[39m=\u001b[39m metrics\u001b[39m.\u001b[39maccuracy_score(pred, y_test)\n",
      "\u001b[1;31mNameError\u001b[0m: name 'metrics' is not defined"
     ]
    }
   ],
   "source": [
    "mnb = MultinomialNB()\n",
    "mnb.fit(xtrain, ytrain)\n",
    "pred = mnb.predict(xtest)\n",
    "accuracy_score = metrics.accuracy_score(pred, ytest)"
   ]
  },
  {
   "cell_type": "code",
   "execution_count": null,
   "metadata": {},
   "outputs": [],
   "source": []
  }
 ],
 "metadata": {
  "kernelspec": {
   "display_name": "Python 3",
   "language": "python",
   "name": "python3"
  },
  "language_info": {
   "codemirror_mode": {
    "name": "ipython",
    "version": 3
   },
   "file_extension": ".py",
   "mimetype": "text/x-python",
   "name": "python",
   "nbconvert_exporter": "python",
   "pygments_lexer": "ipython3",
   "version": "3.10.10"
  },
  "orig_nbformat": 4
 },
 "nbformat": 4,
 "nbformat_minor": 2
}
