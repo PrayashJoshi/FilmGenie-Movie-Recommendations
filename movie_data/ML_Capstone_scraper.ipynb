{
 "cells": [
  {
   "cell_type": "code",
   "execution_count": 1,
   "id": "306dbc93",
   "metadata": {},
   "outputs": [],
   "source": [
    "import requests\n",
    "from bs4 import BeautifulSoup\n",
    "import pandas as pd\n",
    "\n",
    "HEADERS ={\"User-Agent\":\"Mozilla/5.0 (Windows NT 10.0; Win64; x64; rv:66.0) Gecko/20100101 Firefox/66.0\", \"Accept-Encoding\":\"gzip, deflate\", \"Accept\":\"text/html,application/xhtml+xml,application/xml;q=0.9,*/*;q=0.8\", \"DNT\":\"1\",\"Connection\":\"close\", \"Upgrade-Insecure-Requests\":\"1\"}\n",
    "\n",
    "\n",
    "import time\n",
    "\n",
    "def scrape(url, interval, file_name):\n",
    "    \n",
    "    resp = requests.get(url, headers=HEADERS)\n",
    "    content = BeautifulSoup(resp.content, 'lxml')\n",
    "    soup = BeautifulSoup(resp.content, \"html.parser\")\n",
    "    movie_containers = soup.find_all(\"div\", {\"class\": \"lister-item mode-advanced\"})\n",
    "    \n",
    "    movie_list = []\n",
    "    for movie in content.select('.lister-item-content'):\n",
    "        time.sleep(interval)\n",
    "        v = [d.text.strip() for d in movie.select('div:nth-of-type(3) a[href*=\"/name/\"]')]\n",
    "        try:\n",
    "            data = {\n",
    "                \"title\":movie.select('.lister-item-header')[0].get_text().strip(),\n",
    "                \"year\":movie.select('.lister-item-year')[0].get_text().strip(),\n",
    "                \"certificate\":movie.select('.certificate')[0].get_text().strip(),\n",
    "                \"time\":movie.select('.runtime')[0].get_text().strip(),\n",
    "                \"genre\":movie.select('.genre')[0].get_text().strip(),\n",
    "                \"rating\":movie.select('.ratings-imdb-rating')[0].get_text().strip(),\n",
    "                \"metascore\":movie.select('.ratings-metascore')[0].get_text().strip(),\n",
    "                \"simple_desc\":movie.select('.text-muted')[2].get_text().strip(),\n",
    "                \"votes\":movie.select('.sort-num_votes-visible')[0].get_text().strip(),\n",
    "                \"directors\": v[0],\n",
    "                \"actors\": v[1:3]\n",
    "            }\n",
    "        except IndexError:\n",
    "            continue\n",
    "    \n",
    "        movie_list.append(data)\n",
    "\n",
    "    \n",
    "    dataframe = pd.DataFrame(movie_list)\n",
    "    dataframe.to_csv(file_name)\n",
    "    \n",
    "\n",
    "url = \"https://www.imdb.com/search/title/?groups=top_250&sort=user_rating,desc&ref_=adv_prv\"\n",
    "url2 = \"https://www.imdb.com/search/title/?groups=top_250&sort=user_rating,desc&start=51&ref_=adv_nxt\"\n",
    "url3 = \"https://www.imdb.com/search/title/?groups=top_250&sort=user_rating,desc&start=101&ref_=adv_nxt\"\n",
    "url4 = \"https://www.imdb.com/search/title/?groups=top_250&sort=user_rating,desc&start=151&ref_=adv_nxt\"\n",
    "url5 = \"https://www.imdb.com/search/title/?groups=top_250&sort=user_rating,desc&start=201&ref_=adv_nxt\"\n",
    "\n",
    "scrape(url, 0, 'Top50.csv')\n",
    "scrape(url2, 0, 'Top51-100.csv')\n",
    "scrape(url3, 0, 'Top101-150.csv')\n",
    "scrape(url4, 0, 'Top151-200.csv')\n",
    "scrape(url5, 0, 'Top201-250.csv')\n"
   ]
  },
  {
   "cell_type": "code",
   "execution_count": 2,
   "id": "e2ee5b75",
   "metadata": {},
   "outputs": [],
   "source": [
    "\n",
    "files = [\"Top50.csv\", \"Top51-100.csv\", \"Top101-150.csv\", \"Top151-200.csv\", \"Top201-250.csv\"]\n",
    "\n",
    "temp = []\n",
    "\n",
    "for file in files:\n",
    "    df = pd.read_csv(file)\n",
    "    temp.append(df)\n",
    "\n",
    "com = pd.concat(temp)\n",
    "\n",
    "com.to_csv(\"Top250.csv\", index=False)"
   ]
  },
  {
   "cell_type": "code",
   "execution_count": null,
   "id": "235b96c1",
   "metadata": {},
   "outputs": [],
   "source": []
  }
 ],
 "metadata": {
  "kernelspec": {
   "display_name": "Python 3 (ipykernel)",
   "language": "python",
   "name": "python3"
  },
  "language_info": {
   "codemirror_mode": {
    "name": "ipython",
    "version": 3
   },
   "file_extension": ".py",
   "mimetype": "text/x-python",
   "name": "python",
   "nbconvert_exporter": "python",
   "pygments_lexer": "ipython3",
   "version": "3.9.12"
  }
 },
 "nbformat": 4,
 "nbformat_minor": 5
}
